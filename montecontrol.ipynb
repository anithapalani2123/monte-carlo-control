{
  "nbformat": 4,
  "nbformat_minor": 0,
  "metadata": {
    "colab": {
      "provenance": [],
      "authorship_tag": "ABX9TyOOhv2gkqlbbT13DflO6emq",
      "include_colab_link": true
    },
    "kernelspec": {
      "name": "python3",
      "display_name": "Python 3"
    },
    "language_info": {
      "name": "python"
    }
  },
  "cells": [
    {
      "cell_type": "markdown",
      "metadata": {
        "id": "view-in-github",
        "colab_type": "text"
      },
      "source": [
        "<a href=\"https://colab.research.google.com/github/anithapalani2123/monte-carlo-control/blob/main/montecontrol.ipynb\" target=\"_parent\"><img src=\"https://colab.research.google.com/assets/colab-badge.svg\" alt=\"Open In Colab\"/></a>"
      ]
    },
    {
      "cell_type": "code",
      "source": [
        "pip install git+https://github.com/mimoralea/gym-walk#egg=gym-walk"
      ],
      "metadata": {
        "colab": {
          "base_uri": "https://localhost:8080/"
        },
        "id": "HBzONhulQI8p",
        "outputId": "54584b69-a31a-454f-ea62-9958055d3457"
      },
      "execution_count": 1,
      "outputs": [
        {
          "output_type": "stream",
          "name": "stdout",
          "text": [
            "Collecting gym-walk\n",
            "  Cloning https://github.com/mimoralea/gym-walk to /tmp/pip-install-icloxfze/gym-walk_5634926df8294afeb3c818b9e3451240\n",
            "  Running command git clone --filter=blob:none --quiet https://github.com/mimoralea/gym-walk /tmp/pip-install-icloxfze/gym-walk_5634926df8294afeb3c818b9e3451240\n",
            "  Resolved https://github.com/mimoralea/gym-walk to commit 5999016267d6de2f5a63307fb00dfd63de319ac1\n",
            "  Preparing metadata (setup.py) ... \u001b[?25l\u001b[?25hdone\n",
            "Requirement already satisfied: gym in /usr/local/lib/python3.10/dist-packages (from gym-walk) (0.25.2)\n",
            "Requirement already satisfied: numpy>=1.18.0 in /usr/local/lib/python3.10/dist-packages (from gym->gym-walk) (1.23.5)\n",
            "Requirement already satisfied: cloudpickle>=1.2.0 in /usr/local/lib/python3.10/dist-packages (from gym->gym-walk) (2.2.1)\n",
            "Requirement already satisfied: gym-notices>=0.0.4 in /usr/local/lib/python3.10/dist-packages (from gym->gym-walk) (0.0.8)\n",
            "Building wheels for collected packages: gym-walk\n",
            "  Building wheel for gym-walk (setup.py) ... \u001b[?25l\u001b[?25hdone\n",
            "  Created wheel for gym-walk: filename=gym_walk-0.0.2-py3-none-any.whl size=4054 sha256=4cf9af20a3f05b2ddcf63e349697dba258acf9da9ebc09fe2d1cb539a7f11456\n",
            "  Stored in directory: /tmp/pip-ephem-wheel-cache-zt5jzf1x/wheels/24/fe/c4/0cbc7511d29265bad7e28a09311db3f87f0cafba74af54d530\n",
            "Successfully built gym-walk\n",
            "Installing collected packages: gym-walk\n",
            "Successfully installed gym-walk-0.0.2\n"
          ]
        }
      ]
    },
    {
      "cell_type": "code",
      "source": [
        "import warnings ; warnings.filterwarnings('ignore')\n",
        "\n",
        "import gym, gym_walk\n",
        "import numpy as np\n",
        "\n",
        "import random\n",
        "import warnings\n",
        "\n",
        "warnings.filterwarnings('ignore', category=DeprecationWarning)\n",
        "np.set_printoptions(suppress=True)\n",
        "random.seed(123); np.random.seed(123)\n"
      ],
      "metadata": {
        "id": "sjV0xwv4QOsn"
      },
      "execution_count": 2,
      "outputs": []
    },
    {
      "cell_type": "code",
      "source": [
        "\n",
        "def print_policy(pi, P, action_symbols=('<', 'v', '>', '^'), n_cols=4, title='Policy:'):\n",
        "    print(title)\n",
        "    arrs = {k:v for k,v in enumerate(action_symbols)}\n",
        "    for s in range(len(P)):\n",
        "        a = pi(s)\n",
        "        print(\"| \", end=\"\")\n",
        "        if np.all([done for action in P[s].values() for _, _, _, done in action]):\n",
        "            print(\"\".rjust(9), end=\" \")\n",
        "        else:\n",
        "            print(str(s).zfill(2), arrs[a].rjust(6), end=\" \")\n",
        "        if (s + 1) % n_cols == 0: print(\"|\")"
      ],
      "metadata": {
        "id": "Zh0cNszUraYY"
      },
      "execution_count": 3,
      "outputs": []
    },
    {
      "cell_type": "code",
      "source": [
        "def print_state_value_function(V, P, n_cols=4, prec=3, title='State-value function:'):\n",
        "    print(title)\n",
        "    for s in range(len(P)):\n",
        "        v = V[s]\n",
        "        print(\"| \", end=\"\")\n",
        "        if np.all([done for action in P[s].values() for _, _, _, done in action]):\n",
        "            print(\"\".rjust(9), end=\" \")\n",
        "        else:\n",
        "            print(str(s).zfill(2), '{}'.format(np.round(v, prec)).rjust(6), end=\" \")\n",
        "        if (s + 1) % n_cols == 0: print(\"|\")"
      ],
      "metadata": {
        "id": "XguBCU2breRU"
      },
      "execution_count": 4,
      "outputs": []
    },
    {
      "cell_type": "code",
      "source": [
        "env= gym.make('FrozenLake-v1')\n",
        "\n",
        "P=env.env.P\n",
        "\n",
        "init_state= env.reset()\n",
        "\n",
        "goal_state =15\n",
        "\n",
        "#LEFT, RIGHT,UP,DOWN= range(4)"
      ],
      "metadata": {
        "id": "gNSyM1VzX76g"
      },
      "execution_count": 5,
      "outputs": []
    },
    {
      "cell_type": "code",
      "source": [
        "def decay_schedule(init_value,min_value,decay_ratio,max_steps,log_start=-2,log_base=10):\n",
        "  decay_steps = int(max_steps * decay_ratio)\n",
        "  rem_steps = max_steps - decay_steps\n",
        "  values = np.logspace(log_start,0,decay_steps,base=log_base,endpoint=True)[::-1]\n",
        "  values = (values - values.min())/(values.max()-values.min())\n",
        "  values = (init_value - min_value)*values+min_value\n",
        "  values = np.pad(values,(0,rem_steps),'edge')\n",
        "  return values"
      ],
      "metadata": {
        "id": "eTjXiwOkQi5Z"
      },
      "execution_count": 6,
      "outputs": []
    },
    {
      "cell_type": "code",
      "source": [
        "from itertools import count\n",
        "def generate_trajectory(select_action,Q,epsilon,\n",
        "                        env,max_steps=200):\n",
        "  done,trajectory = False, []\n",
        "  while not done:\n",
        "    state = env.reset()\n",
        "    for t in count():\n",
        "      action = select_action(state, Q, epsilon)\n",
        "      next_state, reward, done, _ = env.step(action)\n",
        "      experience = (state, action, reward, next_state, done)\n",
        "      trajectory.append(experience)\n",
        "      if done:\n",
        "        break\n",
        "      if t >= max_steps - 1:\n",
        "        trajectory = []\n",
        "        break\n",
        "      state = next_state\n",
        "  return np.array(trajectory, np.object)\n"
      ],
      "metadata": {
        "id": "NJUTL-Noz42m"
      },
      "execution_count": 7,
      "outputs": []
    },
    {
      "cell_type": "code",
      "source": [
        "\n",
        "from tqdm import tqdm\n",
        "def mc_control(env, gamma = 1.0, init_alpha = 0.5, min_alpha = 0.01,\n",
        "               alpha_decay_ratio = 0.5, init_epsilon = 1.0, min_epsilon = 0.1,\n",
        "               epsilon_decay_ratio = 0.9, n_episodes = 3000, max_steps = 200,\n",
        "               first_visit = True):\n",
        "  nS, nA = env.observation_space.n, env.action_space.n\n",
        "\n",
        "  discounts = np.logspace(0,max_steps, num=max_steps,\n",
        "                          base=gamma, endpoint = False)\n",
        "\n",
        "  alphas = decay_schedule(init_alpha, min_alpha, alpha_decay_ratio, n_episodes)\n",
        "\n",
        "  epsilons = decay_schedule(init_epsilon, min_epsilon, epsilon_decay_ratio, n_episodes)\n",
        "\n",
        "  pi_track = []\n",
        "\n",
        "  Q = np.zeros((nS, nA), dtype = np.float64)\n",
        "  Q_track = np.zeros((n_episodes, nS, nA), dtype = np.float64)\n",
        "\n",
        "  select_action = lambda state, Q, epsilon: np.argmax(Q[state]) if np.random.random() > epsilon else np.random.randint(len(Q[state]))\n",
        "\n",
        "  for e in tqdm(range(n_episodes), leave = False):\n",
        "    trajectory = generate_trajectory(select_action, Q, epsilons[e], env, max_steps)\n",
        "    visited = np.zeros((nS, nA), dtype = np.bool)\n",
        "    for t, (state, action, reward, _, _) in enumerate(trajectory):\n",
        "      if visited[state][action] and first_visit:\n",
        "        continue\n",
        "      visited[state][action] = True\n",
        "      n_steps = len(trajectory[t:])\n",
        "      G = np.sum(discounts[:n_steps] * trajectory[t:, 2])\n",
        "      Q[state][action] += alphas[e] * (G - Q[state][action])\n",
        "    Q_track[e] = Q\n",
        "    pi_track.append(np.argmax(Q, axis = 1))\n",
        "  V = np.max(Q, axis = 1)\n",
        "  pi = lambda s: {s:a for s, a in enumerate(np.argmax(Q, axis = 1))}[s]\n",
        "  return Q, V, pi\n",
        "\n",
        "\n"
      ],
      "metadata": {
        "id": "p4xnvWrtQXwx"
      },
      "execution_count": 8,
      "outputs": []
    },
    {
      "cell_type": "code",
      "source": [
        "def probability_success(env, pi, goal_state, n_episodes=100, max_steps=200):\n",
        "    random.seed(123); np.random.seed(123) ; env.seed(123)\n",
        "    results = []\n",
        "    for _ in range(n_episodes):\n",
        "        state, done, steps = env.reset(), False, 0\n",
        "        while not done and steps < max_steps:\n",
        "            state, _, done, h = env.step(pi(state))\n",
        "            steps += 1\n",
        "        results.append(state == goal_state)\n",
        "    return np.sum(results)/len(results)"
      ],
      "metadata": {
        "id": "-uxlSZCb5ULz"
      },
      "execution_count": 9,
      "outputs": []
    },
    {
      "cell_type": "code",
      "source": [
        "def mean_return(env, pi, n_episodes=100, max_steps=200):\n",
        "    random.seed(123); np.random.seed(123) ; env.seed(123)\n",
        "    results = []\n",
        "    for _ in range(n_episodes):\n",
        "        state, done, steps = env.reset(), False, 0\n",
        "        results.append(0.0)\n",
        "        while not done and steps < max_steps:\n",
        "            state, reward, done, _ = env.step(pi(state))\n",
        "            results[-1] += reward\n",
        "            steps += 1\n",
        "    return np.mean(results)"
      ],
      "metadata": {
        "id": "R-OA-8_c5Vnt"
      },
      "execution_count": 10,
      "outputs": []
    },
    {
      "cell_type": "code",
      "source": [
        "Q, V, pi = mc_control (env,n_episodes=150000)\n",
        "print_state_value_function(Q, P, n_cols=4, prec=2, title='Action-value function:')\n",
        "print_state_value_function(V, P, n_cols=4, prec=2, title='State-value function:')\n",
        "print_policy(pi, P)"
      ],
      "metadata": {
        "colab": {
          "base_uri": "https://localhost:8080/"
        },
        "id": "YGGCBN_7YedJ",
        "outputId": "3dda3ca0-de21-4973-e23e-3c0a43da2f29"
      },
      "execution_count": 11,
      "outputs": [
        {
          "output_type": "stream",
          "name": "stderr",
          "text": []
        },
        {
          "output_type": "stream",
          "name": "stdout",
          "text": [
            "Action-value function:\n",
            "| 00 [0.38 0.3  0.28 0.36] | 01 [0.15 0.19 0.17 0.29] | 02 [0.16 0.24 0.19 0.25] | 03 [0.14 0.16 0.12 0.21] |\n",
            "| 04 [0.39 0.2  0.21 0.24] |           | 06 [0.19 0.13 0.23 0.05] |           |\n",
            "| 08 [0.22 0.27 0.27 0.41] | 09 [0.33 0.48 0.35 0.31] | 10 [0.49 0.37 0.35 0.2 ] |           |\n",
            "|           | 13 [0.4  0.41 0.59 0.46] | 14 [0.62 0.81 0.73 0.73] |           |\n",
            "State-value function:\n",
            "| 00   0.38 | 01   0.29 | 02   0.25 | 03   0.21 |\n",
            "| 04   0.39 |           | 06   0.23 |           |\n",
            "| 08   0.41 | 09   0.48 | 10   0.49 |           |\n",
            "|           | 13   0.59 | 14   0.81 |           |\n",
            "Policy:\n",
            "| 00      < | 01      ^ | 02      ^ | 03      ^ |\n",
            "| 04      < |           | 06      > |           |\n",
            "| 08      ^ | 09      v | 10      < |           |\n",
            "|           | 13      > | 14      v |           |\n"
          ]
        }
      ]
    },
    {
      "cell_type": "code",
      "source": [
        "print('Reaches goal {:.2f}%. Obtains an average undiscounted return of {:.4f}.'.format(\n",
        "    probability_success(env, pi, goal_state=goal_state)*100,\n",
        "    mean_return(env, pi)))"
      ],
      "metadata": {
        "id": "pCufRNALYll2",
        "colab": {
          "base_uri": "https://localhost:8080/"
        },
        "outputId": "ac1f4443-c4f3-4078-d270-38676b19575b"
      },
      "execution_count": 12,
      "outputs": [
        {
          "output_type": "stream",
          "name": "stdout",
          "text": [
            "Reaches goal 71.00%. Obtains an average undiscounted return of 0.7100.\n"
          ]
        }
      ]
    },
    {
      "cell_type": "code",
      "source": [],
      "metadata": {
        "id": "Q34fGgWc5LQI"
      },
      "execution_count": 12,
      "outputs": []
    }
  ]
}